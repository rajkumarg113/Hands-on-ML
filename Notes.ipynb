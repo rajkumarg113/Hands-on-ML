{
 "cells": [
  {
   "cell_type": "markdown",
   "id": "8b4eca29-82dc-4557-b173-8d1bb5192e38",
   "metadata": {},
   "source": [
    "# **Types of Machine Learning System**"
   ]
  },
  {
   "cell_type": "code",
   "execution_count": null,
   "id": "5aef0d55-b4d5-4414-b23b-2ae8779ce09d",
   "metadata": {},
   "outputs": [],
   "source": [
    "\"\"\"There are so many different types of Machine Learning systems that it is useful to\n",
    "classify them in broad categories, based on the following criteria:\n",
    "• Whether or not they are trained with human supervision (supervised, unsuper‐\n",
    "vised, semisupervised, and Reinforcement Learning)\n",
    "• Whether or not they can learn incrementally on the fly (online versus batch\n",
    "learning)\n",
    "• Whether they work by simply comparing new data points to known data points,\n",
    "or instead by detecting patterns in the training data and building a predictive\n",
    "model, much like scientists do (instance-based versus model-based learning)\"\"\"\n"
   ]
  },
  {
   "cell_type": "markdown",
   "id": "1128feec-24b5-4321-9cd2-5f3d2621016e",
   "metadata": {},
   "source": [
    "# **Supervised ML Algorithm**"
   ]
  },
  {
   "cell_type": "code",
   "execution_count": null,
   "id": "513e0981-210a-4085-8258-cdbb022c4cb2",
   "metadata": {},
   "outputs": [],
   "source": [
    "\"\"\"• k-Nearest Neighbors\n",
    "• Linear Regression\n",
    "• Logistic Regression\n",
    "• Support Vector Machines (SVMs)\n",
    "• Decision Trees and Random Forests\n",
    "• Neural networks2\"\"\"\n"
   ]
  },
  {
   "cell_type": "code",
   "execution_count": null,
   "id": "8fc419b1-bb50-45b3-b63e-b27844ad4020",
   "metadata": {},
   "outputs": [],
   "source": []
  }
 ],
 "metadata": {
  "kernelspec": {
   "display_name": "Python 3 (ipykernel)",
   "language": "python",
   "name": "python3"
  },
  "language_info": {
   "codemirror_mode": {
    "name": "ipython",
    "version": 3
   },
   "file_extension": ".py",
   "mimetype": "text/x-python",
   "name": "python",
   "nbconvert_exporter": "python",
   "pygments_lexer": "ipython3",
   "version": "3.12.8"
  }
 },
 "nbformat": 4,
 "nbformat_minor": 5
}
