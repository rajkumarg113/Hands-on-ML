{
 "cells": [
  {
   "cell_type": "markdown",
   "id": "97e473fc-e1f8-4104-8746-e6e5cde3bb0a",
   "metadata": {},
   "source": [
    "# **Chapter 1: Fundamental of ML**"
   ]
  },
  {
   "cell_type": "markdown",
   "id": "8b4eca29-82dc-4557-b173-8d1bb5192e38",
   "metadata": {},
   "source": [
    "# **Types of Machine Learning System**"
   ]
  },
  {
   "cell_type": "code",
   "execution_count": null,
   "id": "5aef0d55-b4d5-4414-b23b-2ae8779ce09d",
   "metadata": {},
   "outputs": [],
   "source": [
    "\"\"\"There are so many different types of Machine Learning systems that it is useful to\n",
    "classify them in broad categories, based on the following criteria:\n",
    "• Whether or not they are trained with human supervision (supervised, unsuper‐\n",
    "vised, semisupervised, and Reinforcement Learning)\n",
    "• Whether or not they can learn incrementally on the fly (online versus batch\n",
    "learning)\n",
    "• Whether they work by simply comparing new data points to known data points,\n",
    "or instead by detecting patterns in the training data and building a predictive\n",
    "model, much like scientists do (instance-based versus model-based learning)\"\"\"\n"
   ]
  },
  {
   "cell_type": "markdown",
   "id": "1128feec-24b5-4321-9cd2-5f3d2621016e",
   "metadata": {},
   "source": [
    "# **Supervised ML Algorithm**"
   ]
  },
  {
   "cell_type": "code",
   "execution_count": null,
   "id": "513e0981-210a-4085-8258-cdbb022c4cb2",
   "metadata": {},
   "outputs": [],
   "source": [
    "\"\"\"• k-Nearest Neighbors\n",
    "• Linear Regression\n",
    "• Logistic Regression\n",
    "• Support Vector Machines (SVMs)\n",
    "• Decision Trees and Random Forests\n",
    "• Neural networks2\"\"\"\n"
   ]
  },
  {
   "cell_type": "markdown",
   "id": "1e9f97ae-91b9-45c2-95e8-9077a6b8329a",
   "metadata": {},
   "source": [
    "# Unsupervised ML Algorithm"
   ]
  },
  {
   "cell_type": "code",
   "execution_count": null,
   "id": "5ac890f8-80af-418b-ba90-71ab9ddec409",
   "metadata": {},
   "outputs": [],
   "source": [
    "\"\"\"\n",
    "Here are some of the most important unsupervised learning algorithms (most of\n",
    "these are covered in Chapters 8 and 9):\n",
    "• Clustering\n",
    "— K-Means\n",
    "— DBSCAN\n",
    "— Hierarchical Cluster Analysis (HCA)\n",
    "• Anomaly detection and novelty detection\n",
    "— One-class SVM\n",
    "— Isolation Forest\n",
    "• Visualization and dimensionality reduction\n",
    "— Principal Component Analysis (PCA)\n",
    "— Kernel PCA\n",
    "— Locally Linear Embedding (LLE)\n",
    "— t-Distributed Stochastic Neighbor Embedding (t-SNE)\n",
    "• Association rule learning\n",
    "— Apriori\n",
    "— Eclat\n",
    "\"\"\""
   ]
  },
  {
   "cell_type": "markdown",
   "id": "338c028a-a342-4eb7-8acc-b4a452283902",
   "metadata": {},
   "source": [
    "# Batch and Online Learning"
   ]
  },
  {
   "cell_type": "code",
   "execution_count": null,
   "id": "7e766501-0bcd-47f2-ac93-97eb59638d41",
   "metadata": {},
   "outputs": [],
   "source": [
    "\"\"\"\n",
    "Batch learning:\n",
    "In batch learning, the system is incapable of learning incrementally: it must be trained\n",
    "using all the available data. This will generally take a lot of time and computing\n",
    "resources, so it is typically done offline. First the system is trained, and then it is\n",
    "launched into production and runs without learning anymore; it just applies what it\n",
    "has learned. This is called offline learning.\n",
    "\n",
    "\n",
    "Online learning\n",
    "In online learning, you train the system incrementally by feeding it data instances\n",
    "sequentially, either individually or in small groups called mini-batches. Each learning\n",
    "step is fast and cheap, so the system can learn about new data on the fly, as it arrives\n",
    "(see Figure 1-13).\n",
    "\n",
    "Online learning is great for systems that receive data as a continuous flow (e.g., stock\n",
    "prices) and need to adapt to change rapidly or autonomously. It is also a good option\n",
    "if you have limited computing resources: once an online learning system has learned\n",
    "about new data instances, it does not need them anymore, so you can discard them\n",
    "(unless you want to be able to roll back to a previous state and “replay” the data). This\n",
    "can save a huge amount of space.\n",
    "\n",
    "Out-of-core learning is usually done offline (i.e., not on the live\n",
    "system), so online learning can be a confusing name. Think of it as\n",
    "incremental learning.\n",
    "\n",
    "\n",
    "\n",
    "\n",
    "\"\"\""
   ]
  },
  {
   "cell_type": "markdown",
   "id": "7d9f364e-cf1c-48aa-a302-6d38304be506",
   "metadata": {},
   "source": [
    "# Main Challenges of Machine Learning"
   ]
  },
  {
   "cell_type": "code",
   "execution_count": null,
   "id": "d8035e83-3ab0-4cb8-a84d-6ad544dc883a",
   "metadata": {},
   "outputs": [],
   "source": [
    "\"\"\"\n",
    "1) Insufficient Quantity of Training Data\n",
    "2) Nonrepresentative Training Data\n",
    "3) Poor-Quality Data\n",
    "4) Irrelevant Features\n",
    "5) Overfitting the Training Data\n",
    "6) Underfitting the Training Data\n",
    "7) Stepping Back\n",
    "8) Testing and Validating\n",
    "9) Hyperparameter Tuning and Model Selection\n",
    "10) Data Mismatch\n",
    "\n",
    "\"\"\""
   ]
  },
  {
   "cell_type": "code",
   "execution_count": null,
   "id": "ade349e2-33ea-4c83-9f87-8fc154f4b00f",
   "metadata": {},
   "outputs": [],
   "source": []
  },
  {
   "cell_type": "markdown",
   "id": "52b0ac9c-0eb9-4094-ba95-2116ff258f28",
   "metadata": {},
   "source": [
    "# **Chapter 2: End To End ML Projects**"
   ]
  },
  {
   "cell_type": "code",
   "execution_count": null,
   "id": "9dc22017-ccca-4064-af52-86959f3b77a3",
   "metadata": {},
   "outputs": [],
   "source": []
  }
 ],
 "metadata": {
  "kernelspec": {
   "display_name": "Python 3 (ipykernel)",
   "language": "python",
   "name": "python3"
  },
  "language_info": {
   "codemirror_mode": {
    "name": "ipython",
    "version": 3
   },
   "file_extension": ".py",
   "mimetype": "text/x-python",
   "name": "python",
   "nbconvert_exporter": "python",
   "pygments_lexer": "ipython3",
   "version": "3.12.8"
  }
 },
 "nbformat": 4,
 "nbformat_minor": 5
}
