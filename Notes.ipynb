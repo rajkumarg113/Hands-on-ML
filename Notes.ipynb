{
 "cells": [
  {
   "cell_type": "markdown",
   "id": "8b4eca29-82dc-4557-b173-8d1bb5192e38",
   "metadata": {},
   "source": [
    "# **Types of Machine Learning System**"
   ]
  },
  {
   "cell_type": "raw",
   "id": "c52ea34a-87bd-487b-ad85-fcaa95c4d246",
   "metadata": {},
   "source": [
    "There are so many different types of Machine Learning systems that it is useful to\n",
    "classify them in broad categories, based on the following criteria:\n",
    "• Whether or not they are trained with human supervision (supervised, unsuper‐\n",
    "vised, semisupervised, and Reinforcement Learning)\n",
    "• Whether or not they can learn incrementally on the fly (online versus batch\n",
    "learning)\n",
    "• Whether they work by simply comparing new data points to known data points,\n",
    "or instead by detecting patterns in the training data and building a predictive\n",
    "model, much like scientists do (instance-based versus model-based learning)\n"
   ]
  },
  {
   "cell_type": "code",
   "execution_count": null,
   "id": "d02d8229-8e26-4db2-a52e-0dc65266d2e2",
   "metadata": {},
   "outputs": [],
   "source": [
    "#"
   ]
  }
 ],
 "metadata": {
  "kernelspec": {
   "display_name": "Python 3 (ipykernel)",
   "language": "python",
   "name": "python3"
  },
  "language_info": {
   "codemirror_mode": {
    "name": "ipython",
    "version": 3
   },
   "file_extension": ".py",
   "mimetype": "text/x-python",
   "name": "python",
   "nbconvert_exporter": "python",
   "pygments_lexer": "ipython3",
   "version": "3.12.8"
  }
 },
 "nbformat": 4,
 "nbformat_minor": 5
}
